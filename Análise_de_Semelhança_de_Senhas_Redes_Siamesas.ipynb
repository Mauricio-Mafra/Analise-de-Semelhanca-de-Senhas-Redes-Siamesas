{
  "nbformat": 4,
  "nbformat_minor": 0,
  "metadata": {
    "colab": {
      "provenance": [],
      "gpuType": "T4"
    },
    "kernelspec": {
      "name": "python3",
      "display_name": "Python 3"
    },
    "language_info": {
      "name": "python"
    },
    "accelerator": "GPU"
  },
  "cells": [
    {
      "cell_type": "markdown",
      "source": [
        "Conectar Drive"
      ],
      "metadata": {
        "id": "RRU70wVVjALr"
      }
    },
    {
      "cell_type": "code",
      "source": [
        "from google.colab import drive\n",
        "drive.mount('/content/drive')"
      ],
      "metadata": {
        "colab": {
          "base_uri": "https://localhost:8080/"
        },
        "id": "9skTNLIHi2kK",
        "outputId": "ba5f6823-b58f-4d6a-c9eb-8e3120f6aa16"
      },
      "execution_count": null,
      "outputs": [
        {
          "output_type": "stream",
          "name": "stdout",
          "text": [
            "Mounted at /content/drive\n"
          ]
        }
      ]
    },
    {
      "cell_type": "markdown",
      "source": [
        "Importações"
      ],
      "metadata": {
        "id": "0TEypfwijDIv"
      }
    },
    {
      "cell_type": "code",
      "source": [
        "import tensorflow as tf\n",
        "import pandas as pd\n",
        "from sklearn.model_selection import train_test_split\n",
        "from keras.preprocessing.text import Tokenizer\n",
        "import nltk\n",
        "import matplotlib.pyplot as plt\n",
        "from keras.utils import pad_sequences\n",
        "from keras.metrics.accuracy_metrics import BinaryAccuracy\n",
        "from keras import backend as K\n",
        "from keras.metrics import Precision, Recall, BinaryAccuracy\n",
        "from keras.layers import Input, Embedding, Conv1D, ReLU, GlobalAveragePooling1D, Dense, Concatenate, BatchNormalization, Reshape\n",
        "from keras.models import Model, Sequential\n",
        "from keras.optimizers import Adam"
      ],
      "metadata": {
        "id": "Zts1kMTTi2fE"
      },
      "execution_count": null,
      "outputs": []
    },
    {
      "cell_type": "markdown",
      "source": [
        "Carregamento de dados"
      ],
      "metadata": {
        "id": "0k1igP_qjFGw"
      }
    },
    {
      "cell_type": "code",
      "source": [
        "# Caminho do arquivo de treino\n",
        "train_path = '/content/drive/MyDrive/Trabalhos/TCC/Train/dataset.csv'\n",
        "\n",
        "# Carregando base de treino\n",
        "dataframe = pd.read_csv(train_path)\n",
        "\n",
        "# Imprimindo prévia dos dados carregados\n",
        "dataframe.columns"
      ],
      "metadata": {
        "colab": {
          "base_uri": "https://localhost:8080/"
        },
        "id": "-PWUGCBdi2Xr",
        "outputId": "d579f2e4-fd67-4ac7-9af8-b5589d7b985d"
      },
      "execution_count": null,
      "outputs": [
        {
          "output_type": "execute_result",
          "data": {
            "text/plain": [
              "Index(['Palavra', 'Senha', 'Relacionado'], dtype='object')"
            ]
          },
          "metadata": {},
          "execution_count": 3
        }
      ]
    },
    {
      "cell_type": "code",
      "source": [
        "# Verificando comprimento máximo das senhas do conjunto\n",
        "dataframe['Senha'].str.len().max()"
      ],
      "metadata": {
        "colab": {
          "base_uri": "https://localhost:8080/"
        },
        "id": "7YO4YtONa6bB",
        "outputId": "1dd5ed84-dc76-41dd-d4c0-3d730b75c472"
      },
      "execution_count": null,
      "outputs": [
        {
          "output_type": "execute_result",
          "data": {
            "text/plain": [
              "16"
            ]
          },
          "metadata": {},
          "execution_count": 4
        }
      ]
    },
    {
      "cell_type": "markdown",
      "source": [
        "Pré-processamento de dados"
      ],
      "metadata": {
        "id": "C6AOKQBEi_ED"
      }
    },
    {
      "cell_type": "code",
      "execution_count": null,
      "metadata": {
        "id": "i_0PKM-Si1hp"
      },
      "outputs": [],
      "source": [
        "max_len = dataframe['Senha'].str.len().max()\n",
        "\n",
        "def tokenize_input(inp_string):\n",
        "    output = []\n",
        "    for row in inp_string:\n",
        "        char_list = [char for char in row]\n",
        "        output.append(char_list)\n",
        "    return output\n",
        "\n",
        "\n",
        "X_temp, X_test, y_temp, y_test = train_test_split(dataframe[['Palavra', 'Senha']],dataframe['Relacionado'], test_size=0.2, random_state=42)\n",
        "\n",
        "X_train, X_val, y_train, y_val = train_test_split(X_temp, y_temp, test_size=0.2, random_state=42)\n",
        "\n",
        "X_train['Palavra'] = X_train['Palavra'].astype(str)\n",
        "X_train['Senha'] = X_train['Senha'].astype(str)\n",
        "\n",
        "X_val['Palavra'] = X_val['Palavra'].astype(str)\n",
        "X_val['Senha'] = X_val['Senha'].astype(str)\n",
        "\n",
        "t = Tokenizer()\n",
        "\n",
        "X_train_plv_tokenized = tokenize_input(X_train['Palavra'])\n",
        "X_train_plv_tokenized = pd.Series(X_train_plv_tokenized)\n",
        "\n",
        "t.fit_on_texts(X_train_plv_tokenized.values)\n",
        "\n",
        "train_plv_seq = t.texts_to_sequences(X_train_plv_tokenized.values)\n",
        "train_plv_seq = pad_sequences(train_plv_seq, max_len, padding='post')\n",
        "\n",
        "####################################################################\n",
        "\n",
        "X_train_snh_tokenized = tokenize_input(X_train['Senha'])\n",
        "X_train_snh_tokenized = pd.Series(X_train_snh_tokenized)\n",
        "\n",
        "t.fit_on_texts(X_train_snh_tokenized.values)\n",
        "\n",
        "train_snh_seq = t.texts_to_sequences(X_train_snh_tokenized.values)\n",
        "train_snh_seq = pad_sequences(train_snh_seq, max_len, padding='post')\n",
        "\n",
        "####################################################################\n",
        "\n",
        "X_val_plv_tokenized = tokenize_input(X_val['Senha'])\n",
        "X_val_plv_tokenized = pd.Series(X_val_plv_tokenized)\n",
        "\n",
        "t.fit_on_texts(X_val_plv_tokenized.values)\n",
        "\n",
        "val_plv_seq = t.texts_to_sequences(X_val_plv_tokenized.values)\n",
        "val_plv_seq = pad_sequences(val_plv_seq, max_len, padding='post')\n",
        "\n",
        "####################################################################\n",
        "\n",
        "X_val_snh_tokenized = tokenize_input(X_val['Senha'])\n",
        "X_val_snh_tokenized = pd.Series(X_val_snh_tokenized)\n",
        "\n",
        "t.fit_on_texts(X_val_snh_tokenized.values)\n",
        "\n",
        "val_snh_seq = t.texts_to_sequences(X_val_snh_tokenized.values)\n",
        "val_snh_seq = pad_sequences(val_snh_seq, max_len, padding='post')\n",
        "\n",
        "\n",
        "print(train_plv_seq)\n",
        "print(train_snh_seq)\n",
        "print(val_plv_seq)\n",
        "print(val_snh_seq)\n",
        "\n",
        "train_plv_seq.shape, train_snh_seq.shape, val_plv_seq.shape, val_snh_seq.shape\n"
      ]
    },
    {
      "cell_type": "markdown",
      "source": [
        "Configuração das equações de métricas"
      ],
      "metadata": {
        "id": "eZWEXREfjJC7"
      }
    },
    {
      "cell_type": "code",
      "source": [
        "def recall_m(y_true, y_pred):\n",
        "    true_positives = K.sum(K.round(K.clip(y_true * y_pred, 0, 1)))\n",
        "    possible_positives = K.sum(K.round(K.clip(y_true, 0, 1)))\n",
        "    recall = true_positives / (possible_positives + K.epsilon())\n",
        "    return recall\n",
        "\n",
        "def precision_m(y_true, y_pred):\n",
        "    true_positives = K.sum(K.round(K.clip(y_true * y_pred, 0, 1)))\n",
        "    predicted_positives = K.sum(K.round(K.clip(y_pred, 0, 1)))\n",
        "    precision = true_positives / (predicted_positives + K.epsilon())\n",
        "    return precision\n",
        "\n",
        "def f1_m(y_true, y_pred):\n",
        "    precision = precision_m(y_true, y_pred)\n",
        "    recall = recall_m(y_true, y_pred)\n",
        "    return 2*((precision*recall)/(precision+recall+K.epsilon()))\n"
      ],
      "metadata": {
        "id": "LbQGPpTljNxX"
      },
      "execution_count": null,
      "outputs": []
    },
    {
      "cell_type": "markdown",
      "source": [
        "Definição do modelo"
      ],
      "metadata": {
        "id": "JibmBKj7jOVU"
      }
    },
    {
      "cell_type": "code",
      "source": [
        "input_A = Input(shape=(train_plv_seq.shape[1],), name='input_A')\n",
        "input_B = Input(shape=(train_snh_seq.shape[1],), name='input_B')\n",
        "\n",
        "def get_cnn_block(depth):\n",
        "  return Sequential([Conv1D(depth, 3, 1),\n",
        "                     BatchNormalization(),\n",
        "                     ReLU()])\n",
        "\n",
        "DEPTH = 16\n",
        "\n",
        "cnn = Sequential([Reshape((max_len, 1)),\n",
        "                  get_cnn_block(DEPTH),\n",
        "                  get_cnn_block(DEPTH*2),\n",
        "                  get_cnn_block(DEPTH*4),\n",
        "                  get_cnn_block(DEPTH*8),\n",
        "                  GlobalAveragePooling1D(),\n",
        "                  Dense(64, activation='relu')])\n",
        "\n",
        "feature_vector_A = cnn(input_A)\n",
        "feature_vector_B = cnn(input_B)\n",
        "\n",
        "concat = Concatenate()([feature_vector_A, feature_vector_B])\n",
        "\n",
        "dense = Dense(64, activation='relu')(concat)\n",
        "output = Dense(1, activation='sigmoid')(dense)\n",
        "\n",
        "model = Model(inputs=[input_A, input_B], outputs=output)\n",
        "\n",
        "\n",
        "metrics = [Precision(name=\"precision\"), Recall(name=\"recall\"), BinaryAccuracy(\"binary_accuracy\"), f1_m]\n",
        "\n",
        "model.compile(loss=\"binary_crossentropy\", metrics= metrics, optimizer=Adam(0.00001))\n",
        "\n",
        "model.summary()"
      ],
      "metadata": {
        "id": "A8_A-JRqjSb4",
        "colab": {
          "base_uri": "https://localhost:8080/"
        },
        "outputId": "1428d645-7358-4c19-9d92-542f2333205d"
      },
      "execution_count": null,
      "outputs": [
        {
          "output_type": "stream",
          "name": "stdout",
          "text": [
            "Model: \"model_12\"\n",
            "__________________________________________________________________________________________________\n",
            " Layer (type)                   Output Shape         Param #     Connected to                     \n",
            "==================================================================================================\n",
            " input_A (InputLayer)           [(None, 16)]         0           []                               \n",
            "                                                                                                  \n",
            " input_B (InputLayer)           [(None, 16)]         0           []                               \n",
            "                                                                                                  \n",
            " sequential_64 (Sequential)     (None, 64)           41760       ['input_A[0][0]',                \n",
            "                                                                  'input_B[0][0]']                \n",
            "                                                                                                  \n",
            " concatenate_12 (Concatenate)   (None, 128)          0           ['sequential_64[0][0]',          \n",
            "                                                                  'sequential_64[1][0]']          \n",
            "                                                                                                  \n",
            " dense_37 (Dense)               (None, 64)           8256        ['concatenate_12[0][0]']         \n",
            "                                                                                                  \n",
            " dense_38 (Dense)               (None, 1)            65          ['dense_37[0][0]']               \n",
            "                                                                                                  \n",
            "==================================================================================================\n",
            "Total params: 50,081\n",
            "Trainable params: 49,601\n",
            "Non-trainable params: 480\n",
            "__________________________________________________________________________________________________\n"
          ]
        }
      ]
    },
    {
      "cell_type": "markdown",
      "source": [
        "Treinamento do modelo"
      ],
      "metadata": {
        "id": "u9WdljmwjTVq"
      }
    },
    {
      "cell_type": "code",
      "source": [
        "history = model.fit([train_plv_seq,train_snh_seq],\n",
        "                    y_train.values.reshape(-1,1),\n",
        "                    epochs = 100,\n",
        "                    batch_size=32,\n",
        "                    validation_data = ([val_plv_seq, val_snh_seq], y_val.values.reshape(-1,1)),\n",
        "                    verbose=1)"
      ],
      "metadata": {
        "id": "ilo1-zZMjVul"
      },
      "execution_count": null,
      "outputs": []
    },
    {
      "cell_type": "markdown",
      "source": [
        "Representação de resultados"
      ],
      "metadata": {
        "id": "yAi9S51CjWXw"
      }
    },
    {
      "cell_type": "code",
      "source": [
        "print(history.history.keys())\n",
        "\n",
        "plt.plot(history.history['binary_accuracy'])\n",
        "plt.title('Acurácia - Treinamento')\n",
        "plt.ylabel('Acurácia')\n",
        "plt.xlabel('Época')\n",
        "\n",
        "plt.show()\n",
        "\n",
        "\n",
        "plt.plot(history.history['val_binary_accuracy'])\n",
        "plt.title('Acurácia - Teste')\n",
        "plt.ylabel('Acurácia')\n",
        "plt.xlabel('Época')\n",
        "\n",
        "plt.show()\n",
        "\n",
        "plt.plot(history.history['precision'])\n",
        "plt.title('Precisão - Treinamento')\n",
        "plt.ylabel('Precisão')\n",
        "plt.xlabel('Época')\n",
        "\n",
        "plt.show()\n",
        "\n",
        "plt.plot(history.history['val_precision'])\n",
        "plt.title('Precisão - Teste')\n",
        "plt.ylabel('Precisão')\n",
        "plt.xlabel('Época')\n",
        "\n",
        "plt.show()\n",
        "\n",
        "plt.plot(history.history['f1_m'])\n",
        "plt.title('F1Score - Treinamento')\n",
        "plt.ylabel('F1Score')\n",
        "plt.xlabel('Época')\n",
        "\n",
        "plt.show()\n",
        "\n",
        "plt.plot(history.history['val_f1_m'])\n",
        "plt.title('F1Score - Teste')\n",
        "plt.ylabel('F1Score')\n",
        "plt.xlabel('Época')\n",
        "\n",
        "plt.show()\n",
        "\n",
        "print(history.history['binary_accuracy'].max())"
      ],
      "metadata": {
        "id": "3-b1Z7cAjZ29"
      },
      "execution_count": null,
      "outputs": []
    }
  ]
}